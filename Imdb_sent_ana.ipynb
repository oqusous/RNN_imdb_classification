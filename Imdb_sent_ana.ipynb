{
  "nbformat": 4,
  "nbformat_minor": 0,
  "metadata": {
    "accelerator": "GPU",
    "colab": {
      "name": "Imdb_Bi-D_LSTM_RNN_word2vec",
      "provenance": [],
      "collapsed_sections": [],
      "machine_shape": "hm"
    },
    "kernelspec": {
      "display_name": "Python 3",
      "name": "python3"
    }
  },
  "cells": [
    {
      "cell_type": "markdown",
      "metadata": {
        "id": "OPpi4pOndd0k"
      },
      "source": [
        "# IMDb Reviews Sentiment Analysis"
      ]
    },
    {
      "cell_type": "code",
      "metadata": {
        "colab": {
          "base_uri": "https://localhost:8080/"
        },
        "id": "yiNrmmV94Ozl",
        "outputId": "0e82b7ff-88e5-4d08-d242-5d0554d48619"
      },
      "source": [
        "from google.colab import drive\r\n",
        "import sys\r\n",
        "\r\n",
        "# Mount Google Drive\r\n",
        "drive.mount('/content/drive')\r\n",
        "\r\n",
        "# Get the absolute path of the current folder\r\n",
        "abspath_curr = '/content/drive/My Drive/Colab Notebooks/RNN/imdb/'\r\n",
        "\r\n",
        "# Get the absolute path of the data\r\n",
        "abspath_data = '/content/drive/My Drive/Colab Notebooks/RNN/imdb/imdb_data/'"
      ],
      "execution_count": 1,
      "outputs": [
        {
          "output_type": "stream",
          "text": [
            "Mounted at /content/drive\n"
          ],
          "name": "stdout"
        }
      ]
    },
    {
      "cell_type": "code",
      "metadata": {
        "id": "l2RsZj3GOVE-"
      },
      "source": [
        "%cd $abspath_data\r\n",
        "!wget https://ai.stanford.edu/~amaas/data/sentiment/aclImdb_v1.tar.gz\r\n",
        "!tar -xvf  'aclImdb_v1.tar.gz';"
      ],
      "execution_count": null,
      "outputs": []
    },
    {
      "cell_type": "code",
      "metadata": {
        "colab": {
          "base_uri": "https://localhost:8080/"
        },
        "id": "uFLs54Y44jfr",
        "outputId": "7e625f00-7840-4a1f-f309-5111ec44aec1"
      },
      "source": [
        "%cd /content/drive/My\\ Drive/"
      ],
      "execution_count": null,
      "outputs": [
        {
          "output_type": "stream",
          "text": [
            "/content/drive/My Drive\n"
          ],
          "name": "stdout"
        }
      ]
    },
    {
      "cell_type": "code",
      "metadata": {
        "colab": {
          "base_uri": "https://localhost:8080/"
        },
        "id": "roTyTO0HIp7g",
        "outputId": "a257c47a-4fc2-48f4-96bb-f382a402272d"
      },
      "source": [
        "!pip install -q tensorflow_addons;\r\n",
        "!pip install -q sentencepiece;\r\n",
        "!pip install -q tf-models-official;\r\n",
        "!pip install -q tensorflow-text;"
      ],
      "execution_count": 2,
      "outputs": [
        {
          "output_type": "stream",
          "text": [
            "\u001b[K     |████████████████████████████████| 706kB 13.7MB/s \n",
            "\u001b[K     |████████████████████████████████| 1.2MB 13.2MB/s \n",
            "\u001b[K     |████████████████████████████████| 1.1MB 13.8MB/s \n",
            "\u001b[K     |████████████████████████████████| 102kB 13.2MB/s \n",
            "\u001b[K     |████████████████████████████████| 37.6MB 122kB/s \n",
            "\u001b[K     |████████████████████████████████| 358kB 59.2MB/s \n",
            "\u001b[K     |████████████████████████████████| 645kB 39.3MB/s \n",
            "\u001b[K     |████████████████████████████████| 174kB 61.4MB/s \n",
            "\u001b[K     |████████████████████████████████| 51kB 7.7MB/s \n",
            "\u001b[?25h  Building wheel for py-cpuinfo (setup.py) ... \u001b[?25l\u001b[?25hdone\n",
            "  Building wheel for seqeval (setup.py) ... \u001b[?25l\u001b[?25hdone\n",
            "\u001b[K     |████████████████████████████████| 3.4MB 17.1MB/s \n",
            "\u001b[?25h"
          ],
          "name": "stdout"
        }
      ]
    },
    {
      "cell_type": "code",
      "metadata": {
        "id": "92WV9cwj47Op"
      },
      "source": [
        "# Ignore warnings\r\n",
        "import warnings\r\n",
        "warnings.filterwarnings('ignore')\r\n",
        "\r\n",
        "# Set matplotlib sizes and settings\r\n",
        "import matplotlib.pyplot as plt\r\n",
        "%matplotlib inline \r\n",
        "plt.rc('font', size=20)\r\n",
        "plt.rc('axes', titlesize=20)\r\n",
        "plt.rc('axes', labelsize=20)\r\n",
        "plt.rc('xtick', labelsize=20)\r\n",
        "plt.rc('ytick', labelsize=20)\r\n",
        "plt.rc('legend', fontsize=20)\r\n",
        "plt.rc('figure', titlesize=20)\r\n",
        "\r\n",
        "# TensorFlow libraries\r\n",
        "%tensorflow_version 2.x \r\n",
        "import numpy as np\r\n",
        "import tensorflow_addons as tfa\r\n",
        "import tensorflow as tf\r\n",
        "import tensorflow_hub as hub\r\n",
        "import keras\r\n",
        "import tensorflow_text as text\r\n",
        "from official.nlp import optimization  # to create AdamW optmizer\r\n",
        "\r\n",
        "# device_name = tf.test.gpu_device_name()\r\n",
        "# if device_name != '/device:GPU:0':\r\n",
        "#   print(\r\n",
        "#       '\\n\\nThis error most likely means that this notebook is not '\r\n",
        "#       'configured to use a GPU.  Change this in Notebook Settings via the '\r\n",
        "#       'command palette (cmd/ctrl-shift-P) or the Edit menu.\\n\\n')\r\n",
        "#   raise SystemError('GPU device not found')\r\n",
        "\r\n",
        "# Base libraries\r\n",
        "import matplotlib.pyplot as plt\r\n",
        "random_seed = 81\r\n",
        "import numpy as np\r\n",
        "import pandas as pd\r\n",
        "from os import listdir\r\n",
        "import string\r\n",
        "from tqdm import tqdm\r\n",
        "import pickle\r\n",
        "import os\r\n",
        "\r\n",
        "# sklearn\r\n",
        "from sklearn.model_selection import train_test_split\r\n",
        "from sklearn.feature_extraction.text import TfidfVectorizer\r\n",
        "from sklearn.feature_extraction.text import CountVectorizer\r\n",
        "from sklearn.naive_bayes import MultinomialNB\r\n",
        "from sklearn.metrics import confusion_matrix, accuracy_score, f1_score, recall_score, precision_score\r\n",
        "from sklearn.pipeline import Pipeline\r\n",
        "from sklearn.model_selection import GridSearchCV\r\n",
        "\r\n",
        "# spaCy\r\n",
        "import spacy\r\n",
        "nlp = spacy.load('en_core_web_sm')\r\n",
        "\r\n",
        "# Gensim\r\n",
        "import gensim\r\n",
        "\r\n",
        "tf.random.set_seed(random_seed)\r\n",
        "np.random.seed(random_seed)"
      ],
      "execution_count": 3,
      "outputs": []
    },
    {
      "cell_type": "markdown",
      "metadata": {
        "id": "5uGk7aP3dUPR"
      },
      "source": [
        "# 1. Data Pre-processing"
      ]
    },
    {
      "cell_type": "code",
      "metadata": {
        "id": "2aM_CJmEMnoO"
      },
      "source": [
        "# upload review .txt files into a dictionary\r\n",
        "data_Dict = {\"aclImdb/train/neg\":[], \"aclImdb/train/pos\":[], \"aclImdb/test/neg\":[], \"aclImdb/test/pos\":[]}\r\n",
        "for directory in list(data_Dict.keys()):\r\n",
        "    for file in tqdm(os.listdir(abspath_data+directory)):\r\n",
        "        data_Dict[directory].append(open(abspath_data+directory+'/'+file, encoding=\"utf8\").read())"
      ],
      "execution_count": 4,
      "outputs": []
    },
    {
      "cell_type": "code",
      "metadata": {
        "id": "eB8EL7ibMoH9"
      },
      "source": [
        "Create a train_df dataframe\r\n",
        "train_neg = pd.DataFrame({\"review\":data_Dict[\"aclImdb/train/neg\"], \"label\":[0]*len(data_Dict[\"aclImdb/train/neg\"])})\r\n",
        "train_pos = pd.DataFrame({\"review\":data_Dict[\"aclImdb/train/pos\"], \"label\":[1]*len(data_Dict[\"aclImdb/train/pos\"])})\r\n",
        "train_df = pd.concat([train_neg, train_pos])\r\n",
        "# Shuffle data\r\n",
        "train_df = train_df.sample(frac = 1).reset_index(drop=True)\r\n",
        "train_df.head()"
      ],
      "execution_count": null,
      "outputs": []
    },
    {
      "cell_type": "code",
      "metadata": {
        "id": "dMN3rA30Mrv0"
      },
      "source": [
        "# Create a test_df dataframe\r\n",
        "test_neg = pd.DataFrame({\"review\":data_Dict[\"aclImdb/test/neg\"], \"label\":[0]*len(data_Dict[\"aclImdb/test/neg\"])})\r\n",
        "test_pos = pd.DataFrame({\"review\":data_Dict[\"aclImdb/test/pos\"], \"label\":[1]*len(data_Dict[\"aclImdb/test/pos\"])})\r\n",
        "test_df = pd.concat([test_neg, test_pos])\r\n",
        "# Shuffle data\r\n",
        "test_df = test_df.sample(frac = 1).reset_index(drop=True)\r\n",
        "test_df.head()"
      ],
      "execution_count": null,
      "outputs": []
    },
    {
      "cell_type": "code",
      "metadata": {
        "id": "E2SEJaWDY12f"
      },
      "source": [
        "train_df.to_csv(abspath_data+'train_df.csv')\r\n",
        "test_df.to_csv(abspath_data+'test_df.csv')"
      ],
      "execution_count": null,
      "outputs": []
    },
    {
      "cell_type": "code",
      "metadata": {
        "id": "qR35mXSqZG1O"
      },
      "source": [
        "train_df = pd.read_csv(abspath_data+'train_df.csv')\r\n",
        "test_df =  pd.read_csv(abspath_data+'test_df.csv')"
      ],
      "execution_count": 4,
      "outputs": []
    },
    {
      "cell_type": "code",
      "metadata": {
        "id": "bOEK6YdFL02S"
      },
      "source": [
        "def tokenizer_spacy(df, col, filename):\r\n",
        "  # initialize list to be populated with the tokenized answers\r\n",
        "  train_tokenized = []\r\n",
        "  # Convert answers to a list\r\n",
        "  train_list = df[col].values.tolist()\r\n",
        "  # Loop through each answer\r\n",
        "  for answer in tqdm(train_list):\r\n",
        "      # empty string to populate with the chosen tokens\r\n",
        "      tokens_joined = ''\r\n",
        "      # spacy object pepares sentence to be parsed\r\n",
        "      nlpd = nlp(answer)\r\n",
        "      # for each word in answer\r\n",
        "      for t in nlpd:\r\n",
        "          # check that it is alphabetic, not a stopword, not punctuation and not a space\r\n",
        "          if (t.is_alpha) and (not t.is_stop) and (not t.is_punct) and (not t.is_space):\r\n",
        "              # if all conditions above are met, covert token back to string, normalize word to its Lemma, lower letter cases and add to empty string with a space behind it to keep words seperate\r\n",
        "              tokens_joined += ' '+t.lemma_.lower()\r\n",
        "      # append resulting string to the train_tokenized list\r\n",
        "      train_tokenized.append(tokens_joined.strip())\r\n",
        "  # save resulting file in pickle format\r\n",
        "  pickle.dump(train_tokenized, open(abspath_data+filename+'.pkl', 'wb'))\r\n",
        "  return train_tokenized"
      ],
      "execution_count": 6,
      "outputs": []
    },
    {
      "cell_type": "code",
      "metadata": {
        "colab": {
          "base_uri": "https://localhost:8080/"
        },
        "id": "8brxlCTZTrnI",
        "outputId": "c3de06c9-9c20-471b-eb7b-ebc897ae6575"
      },
      "source": [
        "train_tokenized = tokenizer_spacy(train_df, 'review', 'train_tokenized')\r\n",
        "test_tokenized = tokenizer_spacy(test_df, 'review', 'test_tokenized')"
      ],
      "execution_count": 7,
      "outputs": [
        {
          "output_type": "stream",
          "text": [
            "100%|██████████| 25000/25000 [17:18<00:00, 24.07it/s]\n",
            "100%|██████████| 25000/25000 [16:09<00:00, 25.78it/s]\n"
          ],
          "name": "stderr"
        }
      ]
    },
    {
      "cell_type": "code",
      "metadata": {
        "id": "FXnNAQRpZa0s"
      },
      "source": [
        "train_tokenized =pickle.load(open(abspath_data+\"train_tokenized.pkl\", 'rb'))\r\n",
        "test_tokenized =pickle.load(open(abspath_data+\"test_tokenized.pkl\", 'rb'))"
      ],
      "execution_count": 5,
      "outputs": []
    },
    {
      "cell_type": "code",
      "metadata": {
        "colab": {
          "base_uri": "https://localhost:8080/",
          "height": 167
        },
        "id": "fZ2snH765URc",
        "outputId": "a422484e-9a91-4d9d-d6cb-c38c09f72243"
      },
      "source": [
        "train_df['review'][0]"
      ],
      "execution_count": 6,
      "outputs": [
        {
          "output_type": "execute_result",
          "data": {
            "application/vnd.google.colaboratory.intrinsic+json": {
              "type": "string"
            },
            "text/plain": [
              "'I\\'ll admit that I don\\'t expect much from a Roger Corman film. Generally, I expect a lot of walking and bad scripts. Yet in this case, I am pleasantly surprised.<br /><br />The Gunslinger is a story of a woman (played by the spunky Beverly Garland) who takes over as sheriff after her husband is brutally murdered. Ms. Garland is a pretty good shot herself, killing one of the murderers the next day at her husband\\'s funeral. Her first task is to shut down the local bar that is violating the town curfew. The bar\\'s owner is trying to buy land in anticipation of being bought out by the (hoped-for) railroad. However, Ms. Garland is a thorn in her plans, and the bar matron hires a man to kill Ms. Garland.<br /><br />Because of Ms. Garland\\'s plays her role honestly and realistically, there is absolutely no temptation to go to Suzanne Somers \"She\\'s the Sheriff\" jokes. With the exception of a couple of faux pas (the apartment door that opens OUT from the inside, jeep tracks, and the two horsemen waiting on screen for their cue to ride around a corner), the movie becomes quite passable as movie fare. However, Corman could not resist padding his film with horse riding scenes, much like he does walking in other films.<br /><br />Sterno says The Gunslinger is a horse opera worth your time.'"
            ]
          },
          "metadata": {
            "tags": []
          },
          "execution_count": 6
        }
      ]
    },
    {
      "cell_type": "code",
      "metadata": {
        "colab": {
          "base_uri": "https://localhost:8080/",
          "height": 111
        },
        "id": "K_3Y_B125PpD",
        "outputId": "6e3bf4f4-bf4e-43c9-923e-3c2abd6d3809"
      },
      "source": [
        "train_tokenized[0]"
      ],
      "execution_count": 7,
      "outputs": [
        {
          "output_type": "execute_result",
          "data": {
            "application/vnd.google.colaboratory.intrinsic+json": {
              "type": "string"
            },
            "text/plain": [
              "'admit expect roger corman film generally expect lot walk bad script case pleasantly gunslinger story woman play spunky beverly garland take sheriff husband brutally murder garland pretty good shot kill murderer day husband funeral task shut local bar violate town curfew bar owner try buy land anticipation buy hope railroad garland thorn plan bar matron hire man kill garland play role honestly realistically absolutely temptation suzanne somers sheriff joke exception couple faux pas apartment door open inside jeep track horseman wait screen cue ride corner movie passable movie fare corman resist pad film horse riding scene like walk say gunslinger horse opera worth time'"
            ]
          },
          "metadata": {
            "tags": []
          },
          "execution_count": 7
        }
      ]
    },
    {
      "cell_type": "code",
      "metadata": {
        "colab": {
          "base_uri": "https://localhost:8080/"
        },
        "id": "fD1DrzxIVDMx",
        "outputId": "002e2bdb-0613-4442-cf8a-637c989a07ea"
      },
      "source": [
        "print(len(train_tokenized), len(test_tokenized))"
      ],
      "execution_count": null,
      "outputs": [
        {
          "output_type": "stream",
          "text": [
            "25000 25000\n"
          ],
          "name": "stdout"
        }
      ]
    },
    {
      "cell_type": "code",
      "metadata": {
        "colab": {
          "base_uri": "https://localhost:8080/"
        },
        "id": "9CzHrGV8Uuuh",
        "outputId": "6b2c8518-c692-4a05-8ab7-9a6c26d2cce1"
      },
      "source": [
        "y_train = np.asarray(train_df['label'].values.tolist(), dtype=np.int32)\r\n",
        "y_test = np.asarray(test_df['label'].values.tolist(), dtype=np.int32)\r\n",
        "print(np.unique(y_train, return_counts=True))\r\n",
        "print(np.unique(y_test, return_counts=True))\r\n",
        "print(len(y_train), len(y_test))"
      ],
      "execution_count": 8,
      "outputs": [
        {
          "output_type": "stream",
          "text": [
            "(array([0, 1], dtype=int32), array([12500, 12500]))\n",
            "(array([0, 1], dtype=int32), array([12500, 12500]))\n",
            "25000 25000\n"
          ],
          "name": "stdout"
        }
      ]
    },
    {
      "cell_type": "markdown",
      "metadata": {
        "id": "e_R1Ao4wcl_q"
      },
      "source": [
        "# 2. Naive Bayes Classifier"
      ]
    },
    {
      "cell_type": "markdown",
      "metadata": {
        "id": "sRSSo5LJdu5M"
      },
      "source": [
        "First model is the Naive Bayes classifer. A classic method to classify text data. The tokenized reviews are vectorized using CountVectorizer and TfidfVectorizer then classified using sklearn's MultinomialNB. The hyper-parameters are varied using GridSearchCV to find their optimal values."
      ]
    },
    {
      "cell_type": "code",
      "metadata": {
        "id": "qyc9wxr1MN-X"
      },
      "source": [
        "vectorizers = {'counter': CountVectorizer(),\r\n",
        "                'tfidf': TfidfVectorizer()}\r\n",
        "pipes = {}\r\n",
        "\r\n",
        "for acronym, vec in vectorizers.items():\r\n",
        "    pipes[acronym] = Pipeline(steps=[('vec', vec), ('mnb', MultinomialNB(alpha=1))])\r\n",
        "\r\n",
        "# param grid for CountVectorizer and TfIdf\r\n",
        "ngram_range = [(1, 1), (2, 2)]\r\n",
        "max_df=[0.8, 0.9, 1.0]\r\n",
        "min_df=[1, 0.01, 0.02]\r\n",
        "max_features= [5500, 10500, 50500, 100500, 150500, None]\r\n",
        "\r\n",
        "param_grids = {}\r\n",
        "# Update param_grids\r\n",
        "param_grids['counter'] = [{'vec__ngram_range': ngram_range,\r\n",
        "                           'vec__max_df': max_df,\r\n",
        "                           'vec__min_df': min_df,\r\n",
        "                           'vec__max_features': max_features}]\r\n",
        "\r\n",
        "param_grids['tfidf'] = [{'vec__ngram_range': ngram_range,\r\n",
        "                           'vec__max_df': max_df,\r\n",
        "                           'vec__min_df': min_df,\r\n",
        "                           'vec__max_features': max_features}]"
      ],
      "execution_count": null,
      "outputs": []
    },
    {
      "cell_type": "code",
      "metadata": {
        "id": "IlamCoMPMTn2"
      },
      "source": [
        "best_score_params_estimator_gs = []\r\n",
        "\r\n",
        "for acronym in pipes.keys():\r\n",
        "  gs = GridSearchCV(estimator=pipes[acronym],\r\n",
        "                    param_grid=param_grids[acronym],\r\n",
        "                    scoring='accuracy',\r\n",
        "                    n_jobs=2,\r\n",
        "                    cv = 5,\r\n",
        "                    refit=True,\r\n",
        "                    return_train_score=True,\r\n",
        "                    verbose=0)\r\n",
        "  gs = gs.fit(train_tokenized, y_train)\r\n",
        "  best_score_params_estimator_gs.append([gs.best_score_, gs.best_params_, gs.best_estimator_])\r\n",
        "  \r\n",
        "  cv_results = pd.DataFrame.from_dict(gs.cv_results_).sort_values(by=['rank_test_score', 'std_test_score'])\r\n",
        "  important_columns = ['rank_test_score', 'mean_test_score', 'std_test_score', 'mean_train_score', 'std_train_score', 'mean_fit_time',\r\n",
        "                      'std_fit_time', 'mean_score_time', 'std_score_time']\r\n",
        "\r\n",
        "  cv_results = cv_results[important_columns + sorted(list(set(cv_results.columns) - set(important_columns)))]\r\n",
        "\r\n",
        "  cv_results.to_csv(path_or_buf=abspath_curr + 'GridSearchCV/' + acronym + '.csv', index=False)\r\n",
        "\r\n",
        "best_score_params_estimator_gs = sorted(best_score_params_estimator_gs, key=lambda x : x[0], reverse=True)\r\n",
        "gs_table = pd.DataFrame(best_score_params_estimator_gs, columns=['best_score', 'best_param', 'best_estimator'])"
      ],
      "execution_count": null,
      "outputs": []
    },
    {
      "cell_type": "code",
      "metadata": {
        "id": "sMGC6Ny42AkU"
      },
      "source": [
        "cv_results.to_csv(path_or_buf=abspath_curr + 'GridSearchCV/' + acronym + '.csv', index=False)"
      ],
      "execution_count": null,
      "outputs": []
    },
    {
      "cell_type": "code",
      "metadata": {
        "colab": {
          "base_uri": "https://localhost:8080/",
          "height": 109
        },
        "id": "gXDUIgj0MXQp",
        "outputId": "a490ace1-74d0-4963-ff30-072a38212530"
      },
      "source": [
        "gs_table"
      ],
      "execution_count": null,
      "outputs": [
        {
          "output_type": "execute_result",
          "data": {
            "text/html": [
              "<div>\n",
              "<style scoped>\n",
              "    .dataframe tbody tr th:only-of-type {\n",
              "        vertical-align: middle;\n",
              "    }\n",
              "\n",
              "    .dataframe tbody tr th {\n",
              "        vertical-align: top;\n",
              "    }\n",
              "\n",
              "    .dataframe thead th {\n",
              "        text-align: right;\n",
              "    }\n",
              "</style>\n",
              "<table border=\"1\" class=\"dataframe\">\n",
              "  <thead>\n",
              "    <tr style=\"text-align: right;\">\n",
              "      <th></th>\n",
              "      <th>best_score</th>\n",
              "      <th>best_param</th>\n",
              "      <th>best_estimator</th>\n",
              "    </tr>\n",
              "  </thead>\n",
              "  <tbody>\n",
              "    <tr>\n",
              "      <th>0</th>\n",
              "      <td>0.86104</td>\n",
              "      <td>{'vec__max_df': 0.8, 'vec__max_features': 1005...</td>\n",
              "      <td>(TfidfVectorizer(analyzer='word', binary=False...</td>\n",
              "    </tr>\n",
              "    <tr>\n",
              "      <th>1</th>\n",
              "      <td>0.85492</td>\n",
              "      <td>{'vec__max_df': 0.8, 'vec__max_features': None...</td>\n",
              "      <td>(CountVectorizer(analyzer='word', binary=False...</td>\n",
              "    </tr>\n",
              "  </tbody>\n",
              "</table>\n",
              "</div>"
            ],
            "text/plain": [
              "   best_score  ...                                     best_estimator\n",
              "0     0.86104  ...  (TfidfVectorizer(analyzer='word', binary=False...\n",
              "1     0.85492  ...  (CountVectorizer(analyzer='word', binary=False...\n",
              "\n",
              "[2 rows x 3 columns]"
            ]
          },
          "metadata": {
            "tags": []
          },
          "execution_count": 23
        }
      ]
    },
    {
      "cell_type": "code",
      "metadata": {
        "colab": {
          "base_uri": "https://localhost:8080/"
        },
        "id": "76W-Nme7MZRb",
        "outputId": "b64e896b-f7a8-473e-ad5e-00b590583aab"
      },
      "source": [
        "gs_table['best_param'][0]"
      ],
      "execution_count": null,
      "outputs": [
        {
          "output_type": "execute_result",
          "data": {
            "text/plain": [
              "{'vec__max_df': 0.8,\n",
              " 'vec__max_features': 100500,\n",
              " 'vec__min_df': 1,\n",
              " 'vec__ngram_range': (1, 1)}"
            ]
          },
          "metadata": {
            "tags": []
          },
          "execution_count": 25
        }
      ]
    },
    {
      "cell_type": "code",
      "metadata": {
        "id": "1C5l1KFXV7JL"
      },
      "source": [
        "def print_scores(pred, label):\r\n",
        "  print(f'Accuracy_score: {accuracy_score(label, pred):.2f}', \r\n",
        "        f'f1_score: {f1_score(label, pred):.2f}', \r\n",
        "        f'recall_score: {recall_score(label, pred):.2f}', \r\n",
        "        f'precision_score: {precision_score(label, pred):.2f}', sep='\\n', end='\\n\\n')"
      ],
      "execution_count": null,
      "outputs": []
    },
    {
      "cell_type": "code",
      "metadata": {
        "colab": {
          "base_uri": "https://localhost:8080/"
        },
        "id": "GiU8G0O1MbU3",
        "outputId": "04b061c1-5de8-4b18-f39b-acb76826c4af"
      },
      "source": [
        "transform_test = gs_table['best_estimator'][0]['vec'].transform(test_tokenized)\r\n",
        "pred = gs_table['best_estimator'][0]['mnb'].predict(transform_test)\r\n",
        "print_scores(pred, y_test)"
      ],
      "execution_count": null,
      "outputs": [
        {
          "output_type": "stream",
          "text": [
            "Accuracy_score: 0.82\n",
            "f1_score: 0.82\n",
            "recall_score: 0.78\n",
            "precision_score: 0.86\n",
            "\n"
          ],
          "name": "stdout"
        }
      ]
    },
    {
      "cell_type": "markdown",
      "metadata": {
        "id": "ocLcaWG1NECy"
      },
      "source": [
        "# 3. RNN using LSTM cells"
      ]
    },
    {
      "cell_type": "markdown",
      "metadata": {
        "id": "4SFn0VLueXNw"
      },
      "source": [
        "Prior to running the data through the RNN layers, the word tokens vector embeddings representations are extracted from Stanford's GloVe pretrained model to form the embeddings layer in the Neural Network's architecture."
      ]
    },
    {
      "cell_type": "code",
      "metadata": {
        "colab": {
          "base_uri": "https://localhost:8080/"
        },
        "id": "-r_1tH6kMdjt",
        "outputId": "7893a8dd-9f58-4e65-acfb-d040b89de453"
      },
      "source": [
        "# initialize a dictionary to store {word :[vector embedding representation of that word],...}\r\n",
        "word_emb_w2v = {}\r\n",
        "# impore the word vector pretrained model glove with size 300.\r\n",
        "file_emb = open(abspath_data+\"glove.6B.300d.txt\", encoding=\"utf-8\")\r\n",
        "for emb in tqdm(file_emb):\r\n",
        "  # its text file each line will look like:\r\n",
        "  # the 0.04656 0.21318 -0.0074364 -0.45854 ... \r\n",
        "  array = emb.split()\r\n",
        "  # split, make the first element (the) the key\r\n",
        "  word = str(array[0])\r\n",
        "  # make the rest of the elements as a float numpy list for the value\r\n",
        "  vector = np.asarray(array[1:], dtype=np.float32)\r\n",
        "  word_emb_w2v[word] = vector\r\n",
        "file_emb.close()"
      ],
      "execution_count": 11,
      "outputs": [
        {
          "output_type": "stream",
          "text": [
            "400000it [00:28, 13882.99it/s]\n"
          ],
          "name": "stderr"
        }
      ]
    },
    {
      "cell_type": "code",
      "metadata": {
        "colab": {
          "base_uri": "https://localhost:8080/"
        },
        "id": "0c-sTA94DuVC",
        "outputId": "78bd662f-b881-4df6-e0b9-d5bb83407c40"
      },
      "source": [
        "lengths = [len(token_list.split(' ')) for token_list in train_tokenized+test_tokenized]\r\n",
        "max_len = max(lengths)\r\n",
        "print(max_len)"
      ],
      "execution_count": 12,
      "outputs": [
        {
          "output_type": "stream",
          "text": [
            "1285\n"
          ],
          "name": "stdout"
        }
      ]
    },
    {
      "cell_type": "markdown",
      "metadata": {
        "id": "rW3HupDvfT6p"
      },
      "source": [
        "Bag of words with the same length for each review is formed in the code below."
      ]
    },
    {
      "cell_type": "code",
      "metadata": {
        "id": "ini31ReN7P6r"
      },
      "source": [
        "tf_tokenizer = tf.keras.preprocessing.text.Tokenizer()\r\n",
        "tf_tokenizer.fit_on_texts(train_tokenized+test_tokenized)\r\n",
        "word_index = tf_tokenizer.word_index\r\n",
        "\r\n",
        "train_seq = tf_tokenizer.texts_to_sequences(train_tokenized)\r\n",
        "test_seq = tf_tokenizer.texts_to_sequences(test_tokenized)\r\n",
        "train_pad = tf.keras.preprocessing.sequence.pad_sequences(train_seq, maxlen=max_len)\r\n",
        "test_pad = tf.keras.preprocessing.sequence.pad_sequences(test_seq, maxlen=max_len)"
      ],
      "execution_count": 13,
      "outputs": []
    },
    {
      "cell_type": "code",
      "metadata": {
        "colab": {
          "base_uri": "https://localhost:8080/"
        },
        "id": "UAVWudzJAtfg",
        "outputId": "42bb1475-a333-4814-87b4-473e9249fe97"
      },
      "source": [
        "print(len(word_index))\r\n",
        "print(train_pad.shape)\r\n",
        "print(test_pad.shape)"
      ],
      "execution_count": 14,
      "outputs": [
        {
          "output_type": "stream",
          "text": [
            "86030\n",
            "(25000, 1285)\n",
            "(25000, 1285)\n"
          ],
          "name": "stdout"
        }
      ]
    },
    {
      "cell_type": "markdown",
      "metadata": {
        "id": "ysP2mwwgfiyC"
      },
      "source": [
        "Here the bag of words are mapped with the their vector embedding representation."
      ]
    },
    {
      "cell_type": "code",
      "metadata": {
        "colab": {
          "base_uri": "https://localhost:8080/"
        },
        "id": "ge8UJOG5GW3E",
        "outputId": "55e17509-435b-4ec7-d8df-46d22cf32b73"
      },
      "source": [
        "num_o_words = len(word_index)+1\r\n",
        "print(num_o_words)\r\n",
        "emb_dim = 300 # size of w2v vector\r\n",
        "emb_mtrx = np.zeros((num_o_words, emb_dim))\r\n",
        "\r\n",
        "for word, i in word_index.items():\r\n",
        "  if i > num_o_words:\r\n",
        "    continue\r\n",
        "  emb_vector = word_emb_w2v.get(word)\r\n",
        "  if emb_vector is not None:\r\n",
        "    emb_mtrx[i] = emb_vector"
      ],
      "execution_count": 15,
      "outputs": [
        {
          "output_type": "stream",
          "text": [
            "86031\n"
          ],
          "name": "stdout"
        }
      ]
    },
    {
      "cell_type": "markdown",
      "metadata": {
        "id": "d1onUdeMv6iE"
      },
      "source": [
        "## 3.1 First RNN, Single Bidirectional LSTM Layer"
      ]
    },
    {
      "cell_type": "code",
      "metadata": {
        "colab": {
          "base_uri": "https://localhost:8080/"
        },
        "id": "hPeVNj5CfwJu",
        "outputId": "efbbcc2b-77ce-4e88-e773-e236426d460d"
      },
      "source": [
        "model_bi_lstm = tf.keras.Sequential()\r\n",
        "emb_layer = tf.keras.layers.Embedding(input_dim= num_o_words,\r\n",
        "                                      output_dim = emb_dim,\r\n",
        "                                      embeddings_initializer = tf.keras.initializers.Constant(emb_mtrx),\r\n",
        "                                      input_length= max_len,\r\n",
        "                                      trainable=False)\r\n",
        "model_bi_lstm.add(emb_layer)\r\n",
        "model_bi_lstm.add(tf.keras.layers.Bidirectional(tf.keras.layers.LSTM(64)))\r\n",
        "model_bi_lstm.add(tf.keras.layers.Dense(64, activation='relu'))\r\n",
        "model_bi_lstm.add(tf.keras.layers.Dense(1))\r\n",
        "print(model_bi_lstm.summary())"
      ],
      "execution_count": 11,
      "outputs": [
        {
          "output_type": "stream",
          "text": [
            "Model: \"sequential\"\n",
            "_________________________________________________________________\n",
            "Layer (type)                 Output Shape              Param #   \n",
            "=================================================================\n",
            "embedding (Embedding)        (None, 1285, 300)         25809300  \n",
            "_________________________________________________________________\n",
            "bidirectional (Bidirectional (None, 128)               186880    \n",
            "_________________________________________________________________\n",
            "dense (Dense)                (None, 64)                8256      \n",
            "_________________________________________________________________\n",
            "dense_1 (Dense)              (None, 1)                 65        \n",
            "=================================================================\n",
            "Total params: 26,004,501\n",
            "Trainable params: 195,201\n",
            "Non-trainable params: 25,809,300\n",
            "_________________________________________________________________\n",
            "None\n"
          ],
          "name": "stdout"
        }
      ]
    },
    {
      "cell_type": "code",
      "metadata": {
        "id": "hZnVil_5iZY-"
      },
      "source": [
        "directory = os.path.dirname(abspath_curr + 'results/model/')\r\n",
        "if not os.path.exists(directory):\r\n",
        "    os.makedirs(directory)"
      ],
      "execution_count": 12,
      "outputs": []
    },
    {
      "cell_type": "code",
      "metadata": {
        "id": "UxJOQrVIihHo"
      },
      "source": [
        "# ModelCheckpoint callback\r\n",
        "model_checkpoint_cb = keras.callbacks.ModelCheckpoint(filepath=abspath_curr + 'results/model/model_bi_lstm.h5',\r\n",
        "                                                      save_best_only=True,\r\n",
        "                                                      save_weights_only=True)\r\n",
        "\r\n",
        "# EarlyStopping callback\r\n",
        "early_stopping_cb = keras.callbacks.EarlyStopping(patience=5,\r\n",
        "                                                  restore_best_weights=True)\r\n",
        "\r\n",
        "# ReduceLROnPlateau callback\r\n",
        "reduce_lr_on_plateau_cb = keras.callbacks.ReduceLROnPlateau(factor=0.1,\r\n",
        "                                                            patience=5)"
      ],
      "execution_count": 9,
      "outputs": []
    },
    {
      "cell_type": "code",
      "metadata": {
        "id": "TCFGgaZuhUnC"
      },
      "source": [
        "model_bi_lstm.compile(loss=tf.keras.losses.BinaryCrossentropy(from_logits=True),\r\n",
        "                      optimizer=tf.keras.optimizers.Adam(1e-4),\r\n",
        "                      metrics='accuracy')"
      ],
      "execution_count": 14,
      "outputs": []
    },
    {
      "cell_type": "code",
      "metadata": {
        "colab": {
          "base_uri": "https://localhost:8080/"
        },
        "id": "1ksA1HZOhXds",
        "outputId": "8d9b3baf-5616-4e41-d993-7b3bd2d671a7"
      },
      "source": [
        "history = model_bi_lstm.fit(train_pad, y_train,\r\n",
        "                            batch_size= 32,\r\n",
        "                            epochs=16, \r\n",
        "                            validation_split = 0.2,\r\n",
        "                            callbacks=[model_checkpoint_cb, early_stopping_cb, reduce_lr_on_plateau_cb])"
      ],
      "execution_count": 18,
      "outputs": [
        {
          "output_type": "stream",
          "text": [
            "Epoch 1/16\n",
            "625/625 [==============================] - 396s 629ms/step - loss: 0.6122 - accuracy: 0.5812 - val_loss: 0.4186 - val_accuracy: 0.8136\n",
            "Epoch 2/16\n",
            "625/625 [==============================] - 399s 638ms/step - loss: 0.4124 - accuracy: 0.8071 - val_loss: 0.3978 - val_accuracy: 0.8314\n",
            "Epoch 3/16\n",
            "625/625 [==============================] - 399s 638ms/step - loss: 0.3818 - accuracy: 0.8246 - val_loss: 0.3700 - val_accuracy: 0.8326\n",
            "Epoch 4/16\n",
            "625/625 [==============================] - 394s 631ms/step - loss: 0.3588 - accuracy: 0.8351 - val_loss: 0.3635 - val_accuracy: 0.8288\n",
            "Epoch 5/16\n",
            "625/625 [==============================] - 399s 639ms/step - loss: 0.3438 - accuracy: 0.8468 - val_loss: 0.3537 - val_accuracy: 0.8380\n",
            "Epoch 6/16\n",
            "625/625 [==============================] - 401s 642ms/step - loss: 0.3308 - accuracy: 0.8537 - val_loss: 0.3483 - val_accuracy: 0.8426\n",
            "Epoch 7/16\n",
            "625/625 [==============================] - 402s 643ms/step - loss: 0.3265 - accuracy: 0.8519 - val_loss: 0.3522 - val_accuracy: 0.8472\n",
            "Epoch 8/16\n",
            "625/625 [==============================] - 401s 642ms/step - loss: 0.3040 - accuracy: 0.8653 - val_loss: 0.3348 - val_accuracy: 0.8470\n",
            "Epoch 9/16\n",
            "625/625 [==============================] - 396s 633ms/step - loss: 0.3007 - accuracy: 0.8667 - val_loss: 0.3463 - val_accuracy: 0.8528\n",
            "Epoch 10/16\n",
            "625/625 [==============================] - 394s 631ms/step - loss: 0.2924 - accuracy: 0.8703 - val_loss: 0.3242 - val_accuracy: 0.8598\n",
            "Epoch 11/16\n",
            "625/625 [==============================] - 399s 639ms/step - loss: 0.2849 - accuracy: 0.8760 - val_loss: 0.3357 - val_accuracy: 0.8466\n",
            "Epoch 12/16\n",
            "625/625 [==============================] - 400s 640ms/step - loss: 0.2760 - accuracy: 0.8773 - val_loss: 0.3223 - val_accuracy: 0.8636\n",
            "Epoch 13/16\n",
            "625/625 [==============================] - 396s 634ms/step - loss: 0.2589 - accuracy: 0.8894 - val_loss: 0.3230 - val_accuracy: 0.8596\n",
            "Epoch 14/16\n",
            "625/625 [==============================] - 397s 636ms/step - loss: 0.2522 - accuracy: 0.8939 - val_loss: 0.3240 - val_accuracy: 0.8676\n",
            "Epoch 15/16\n",
            "625/625 [==============================] - 396s 634ms/step - loss: 0.2396 - accuracy: 0.8972 - val_loss: 0.3185 - val_accuracy: 0.8630\n",
            "Epoch 16/16\n",
            "625/625 [==============================] - 401s 642ms/step - loss: 0.2369 - accuracy: 0.9005 - val_loss: 0.3231 - val_accuracy: 0.8652\n"
          ],
          "name": "stdout"
        }
      ]
    },
    {
      "cell_type": "code",
      "metadata": {
        "id": "jOM8hygNlR9K"
      },
      "source": [
        "# Make directory\r\n",
        "directory = os.path.dirname(abspath_curr + 'results/figure/')\r\n",
        "if not os.path.exists(directory):\r\n",
        "    os.makedirs(directory)"
      ],
      "execution_count": 19,
      "outputs": []
    },
    {
      "cell_type": "code",
      "metadata": {
        "colab": {
          "base_uri": "https://localhost:8080/",
          "height": 708
        },
        "id": "MiBF3ml1mhit",
        "outputId": "cfb1015b-f7fc-45aa-c168-0158f2a2313c"
      },
      "source": [
        "# Create a figure\r\n",
        "plot_hist = pd.DataFrame(history.history)\r\n",
        "plot_hist.plot(figsize=(10, 10))\r\n",
        "plot_hist.to_csv(abspath_curr+'results/figure/plot_hist.csv')\r\n",
        "# Set grid\r\n",
        "plt.grid(True)\r\n",
        "\r\n",
        "# Save and show the figure\r\n",
        "plt.tight_layout()\r\n",
        "plt.legend(loc='best')\r\n",
        "plt.show()"
      ],
      "execution_count": 20,
      "outputs": [
        {
          "output_type": "display_data",
          "data": {
            "image/png": "[encoded data removed]",
            "text/plain": [
              "<Figure size 720x720 with 1 Axes>"
            ]
          },
          "metadata": {
            "tags": [],
            "needs_background": "light"
          }
        }
      ]
    },
    {
      "cell_type": "code",
      "metadata": {
        "colab": {
          "base_uri": "https://localhost:8080/"
        },
        "id": "r-Qn_67UnPHF",
        "outputId": "62b38fa2-b4b4-4c99-a61c-42cbfe62e893"
      },
      "source": [
        "# Load the saved model\r\n",
        "model_bi_lstm.load_weights(abspath_curr + 'results/model/model_bi_lstm.h5')\r\n",
        "loss, accuracy = model_bi_lstm.evaluate(x=test_pad, y=y_test)"
      ],
      "execution_count": 21,
      "outputs": [
        {
          "output_type": "stream",
          "text": [
            "782/782 [==============================] - 148s 190ms/step - loss: 0.3298 - accuracy: 0.8558\n"
          ],
          "name": "stdout"
        }
      ]
    },
    {
      "cell_type": "markdown",
      "metadata": {
        "id": "ZZdLOAcQwCOP"
      },
      "source": [
        "## 3.2 Second RNN, Multi Bidirectional LSTM Layers"
      ]
    },
    {
      "cell_type": "code",
      "metadata": {
        "colab": {
          "base_uri": "https://localhost:8080/"
        },
        "id": "W2bMY9COwBXx",
        "outputId": "e5ae017e-20c8-412a-e1dd-f98e268fd53f"
      },
      "source": [
        "model_bi_m_lstm = tf.keras.Sequential()\r\n",
        "emb_layer = tf.keras.layers.Embedding(input_dim= num_o_words,\r\n",
        "                                      output_dim = emb_dim,\r\n",
        "                                      embeddings_initializer = tf.keras.initializers.Constant(emb_mtrx),\r\n",
        "                                      input_length= max_len,\r\n",
        "                                      trainable=False)\r\n",
        "model_bi_m_lstm.add(emb_layer)\r\n",
        "model_bi_m_lstm.add(tf.keras.layers.Bidirectional(tf.keras.layers.LSTM(64, return_sequences=True)))\r\n",
        "model_bi_m_lstm.add(tf.keras.layers.Bidirectional(tf.keras.layers.LSTM(32)))\r\n",
        "model_bi_m_lstm.add(tf.keras.layers.Dense(64, activation='relu'))\r\n",
        "model_bi_m_lstm.add(tf.keras.layers.Dropout(0.5))\r\n",
        "model_bi_m_lstm.add(tf.keras.layers.Dense(1))\r\n",
        "\r\n",
        "print(model_bi_m_lstm.summary())"
      ],
      "execution_count": 16,
      "outputs": [
        {
          "output_type": "stream",
          "text": [
            "Model: \"sequential_1\"\n",
            "_________________________________________________________________\n",
            "Layer (type)                 Output Shape              Param #   \n",
            "=================================================================\n",
            "embedding (Embedding)        (None, 1285, 300)         25809300  \n",
            "_________________________________________________________________\n",
            "bidirectional (Bidirectional (None, 1285, 128)         186880    \n",
            "_________________________________________________________________\n",
            "bidirectional_1 (Bidirection (None, 64)                41216     \n",
            "_________________________________________________________________\n",
            "dense (Dense)                (None, 64)                4160      \n",
            "_________________________________________________________________\n",
            "dropout (Dropout)            (None, 64)                0         \n",
            "_________________________________________________________________\n",
            "dense_1 (Dense)              (None, 1)                 65        \n",
            "=================================================================\n",
            "Total params: 26,041,621\n",
            "Trainable params: 232,321\n",
            "Non-trainable params: 25,809,300\n",
            "_________________________________________________________________\n",
            "None\n"
          ],
          "name": "stdout"
        }
      ]
    },
    {
      "cell_type": "code",
      "metadata": {
        "id": "IROMQ007wzO4"
      },
      "source": [
        "# ModelCheckpoint callback\r\n",
        "model_checkpoint_cb = keras.callbacks.ModelCheckpoint(filepath=abspath_curr + 'results/model/model_bi_m_lstm.h5',\r\n",
        "                                                      save_best_only=True,\r\n",
        "                                                      save_weights_only=True)"
      ],
      "execution_count": 17,
      "outputs": []
    },
    {
      "cell_type": "code",
      "metadata": {
        "id": "DfaRmVyNw2Fm"
      },
      "source": [
        "model_bi_m_lstm.compile(loss=tf.keras.losses.BinaryCrossentropy(from_logits=True),\r\n",
        "                        optimizer=tf.keras.optimizers.Adam(1e-3),\r\n",
        "                        metrics=['accuracy'])"
      ],
      "execution_count": 18,
      "outputs": []
    },
    {
      "cell_type": "code",
      "metadata": {
        "colab": {
          "base_uri": "https://localhost:8080/"
        },
        "id": "dRncVPQ7w-X7",
        "outputId": "e9f5ac24-549a-4c33-a4bd-9b4e3e5f2295"
      },
      "source": [
        "history_1 = model_bi_m_lstm.fit(train_pad, y_train,\r\n",
        "                              batch_size= 32,\r\n",
        "                              epochs=6, \r\n",
        "                              validation_split = 0.2,\r\n",
        "                              callbacks=[model_checkpoint_cb, early_stopping_cb, reduce_lr_on_plateau_cb])"
      ],
      "execution_count": 19,
      "outputs": [
        {
          "output_type": "stream",
          "text": [
            "Epoch 1/6\n",
            "625/625 [==============================] - 140s 193ms/step - loss: 0.5303 - accuracy: 0.7105 - val_loss: 0.4081 - val_accuracy: 0.8258\n",
            "Epoch 2/6\n",
            "625/625 [==============================] - 120s 192ms/step - loss: 0.3757 - accuracy: 0.8325 - val_loss: 0.3508 - val_accuracy: 0.8524\n",
            "Epoch 3/6\n",
            "625/625 [==============================] - 120s 193ms/step - loss: 0.3261 - accuracy: 0.8565 - val_loss: 0.3559 - val_accuracy: 0.8554\n",
            "Epoch 4/6\n",
            "625/625 [==============================] - 121s 193ms/step - loss: 0.2896 - accuracy: 0.8757 - val_loss: 0.3173 - val_accuracy: 0.8614\n",
            "Epoch 5/6\n",
            "625/625 [==============================] - 121s 193ms/step - loss: 0.2513 - accuracy: 0.8963 - val_loss: 0.3200 - val_accuracy: 0.8638\n",
            "Epoch 6/6\n",
            "625/625 [==============================] - 121s 193ms/step - loss: 0.2153 - accuracy: 0.9143 - val_loss: 0.3405 - val_accuracy: 0.8624\n"
          ],
          "name": "stdout"
        }
      ]
    },
    {
      "cell_type": "code",
      "metadata": {
        "colab": {
          "base_uri": "https://localhost:8080/",
          "height": 708
        },
        "id": "HtC6L4rFxIi-",
        "outputId": "b47fe883-8018-4254-a1c4-aa801ecf0e9b"
      },
      "source": [
        "# Create a figure\r\n",
        "plot_hist_1 = pd.DataFrame(history_1.history)\r\n",
        "plot_hist_1.plot(figsize=(10, 10))\r\n",
        "plot_hist_1.to_csv(abspath_curr+'results/figure/plot_hist_1.csv')\r\n",
        "# Set grid\r\n",
        "plt.grid(True)\r\n",
        "\r\n",
        "# Save and show the figure\r\n",
        "plt.tight_layout()\r\n",
        "plt.legend(loc='best')\r\n",
        "plt.show()"
      ],
      "execution_count": 20,
      "outputs": [
        {
          "output_type": "display_data",
          "data": {
            "image/png": "[encoded data removed]",
            "text/plain": [
              "<Figure size 720x720 with 1 Axes>"
            ]
          },
          "metadata": {
            "tags": [],
            "needs_background": "light"
          }
        }
      ]
    },
    {
      "cell_type": "code",
      "metadata": {
        "colab": {
          "base_uri": "https://localhost:8080/"
        },
        "id": "0gf4Tf-mxSCW",
        "outputId": "23d217c1-c4ae-4222-ef1d-15121e503a45"
      },
      "source": [
        "# Load the saved model\r\n",
        "model_bi_m_lstm.load_weights(abspath_curr + 'results/model/model_bi_m_lstm.h5')\r\n",
        "loss, accuracy = model_bi_m_lstm.evaluate(x=test_pad, y=y_test)"
      ],
      "execution_count": 22,
      "outputs": [
        {
          "output_type": "stream",
          "text": [
            "782/782 [==============================] - 67s 85ms/step - loss: 0.3197 - accuracy: 0.8580\n"
          ],
          "name": "stdout"
        }
      ]
    }
  ]
}