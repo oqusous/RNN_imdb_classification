{
 "metadata": {
  "language_info": {
   "codemirror_mode": {
    "name": "ipython",
    "version": 3
   },
   "file_extension": ".py",
   "mimetype": "text/x-python",
   "name": "python",
   "nbconvert_exporter": "python",
   "pygments_lexer": "ipython3",
   "version": "3.8.5-final"
  },
  "orig_nbformat": 2,
  "kernelspec": {
   "name": "python3",
   "display_name": "Python 3.8.5 64-bit (conda)",
   "metadata": {
    "interpreter": {
     "hash": "b3ba2566441a7c06988d0923437866b63cedc61552a5af99d1f4fb67d367b25f"
    }
   }
  }
 },
 "nbformat": 4,
 "nbformat_minor": 2,
 "cells": [
  {
   "cell_type": "code",
   "execution_count": 12,
   "metadata": {},
   "outputs": [],
   "source": [
    "import pandas as pd\n",
    "import numpy as np\n",
    "from os import listdir\n",
    "import string\n",
    "import spacy\n",
    "import pickle\n",
    "from tqdm import tqdm\n",
    "import gensim\n",
    "\n",
    "nlp = spacy.load('en_core_web_sm')"
   ]
  },
  {
   "cell_type": "code",
   "execution_count": 6,
   "metadata": {},
   "outputs": [],
   "source": [
    "data_Dict = {\"aclImdb/train/neg\":[], \"aclImdb/train/pos\":[], \"aclImdb/test/neg\":[], \"aclImdb/test/pos\":[]}\n",
    "for directory in list(data_Dict.keys()):\n",
    "    for file in os.listdir(directory):\n",
    "        data_Dict[directory].append(open(directory+'/'+file, encoding=\"utf8\").read())"
   ]
  },
  {
   "cell_type": "code",
   "execution_count": 7,
   "metadata": {},
   "outputs": [
    {
     "output_type": "execute_result",
     "data": {
      "text/plain": [
       "\"Story of a man who has unnatural feelings for a pig. Starts out with a opening scene that is a terrific example of absurd comedy. A formal orchestra audience is turned into an insane, violent mob by the crazy chantings of it's singers. Unfortunately it stays absurd the WHOLE time with no general narrative eventually making it just too off putting. Even those from the era should be turned off. The cryptic dialogue would make Shakespeare seem easy to a third grader. On a technical level it's better than you might think with some good cinematography by future great Vilmos Zsigmond. Future stars Sally Kirkland and Frederic Forrest can be seen briefly.\""
      ]
     },
     "metadata": {},
     "execution_count": 7
    }
   ],
   "source": [
    "data_Dict['aclImdb/train/neg'][0]"
   ]
  },
  {
   "cell_type": "code",
   "execution_count": 20,
   "metadata": {},
   "outputs": [
    {
     "output_type": "execute_result",
     "data": {
      "text/plain": [
       "                                              review  label\n",
       "0  I'll admit that I don't expect much from a Rog...      0\n",
       "1  She may have an Oscar and a Golden Globe, but ...      0\n",
       "2  Another big star cast, another glamour's set, ...      0\n",
       "3  I was just a bit young for this one, but I had...      1\n",
       "4  A surprisingly good movie! It has quite a few ...      1"
      ],
      "text/html": "<div>\n<style scoped>\n    .dataframe tbody tr th:only-of-type {\n        vertical-align: middle;\n    }\n\n    .dataframe tbody tr th {\n        vertical-align: top;\n    }\n\n    .dataframe thead th {\n        text-align: right;\n    }\n</style>\n<table border=\"1\" class=\"dataframe\">\n  <thead>\n    <tr style=\"text-align: right;\">\n      <th></th>\n      <th>review</th>\n      <th>label</th>\n    </tr>\n  </thead>\n  <tbody>\n    <tr>\n      <th>0</th>\n      <td>I'll admit that I don't expect much from a Rog...</td>\n      <td>0</td>\n    </tr>\n    <tr>\n      <th>1</th>\n      <td>She may have an Oscar and a Golden Globe, but ...</td>\n      <td>0</td>\n    </tr>\n    <tr>\n      <th>2</th>\n      <td>Another big star cast, another glamour's set, ...</td>\n      <td>0</td>\n    </tr>\n    <tr>\n      <th>3</th>\n      <td>I was just a bit young for this one, but I had...</td>\n      <td>1</td>\n    </tr>\n    <tr>\n      <th>4</th>\n      <td>A surprisingly good movie! It has quite a few ...</td>\n      <td>1</td>\n    </tr>\n  </tbody>\n</table>\n</div>"
     },
     "metadata": {},
     "execution_count": 20
    }
   ],
   "source": [
    "train_neg = pd.DataFrame({\"review\":data_Dict[\"aclImdb/train/neg\"], \"label\":[0]*len(data_Dict[\"aclImdb/train/neg\"])})\n",
    "train_pos = pd.DataFrame({\"review\":data_Dict[\"aclImdb/train/pos\"], \"label\":[1]*len(data_Dict[\"aclImdb/train/pos\"])})\n",
    "train_df = pd.concat([train_neg, train_pos])\n",
    "train_df = train_df.sample(frac = 1).reset_index(drop=True)\n",
    "train_df.head()"
   ]
  },
  {
   "cell_type": "code",
   "execution_count": 21,
   "metadata": {},
   "outputs": [
    {
     "output_type": "execute_result",
     "data": {
      "text/plain": [
       "                                              review  label\n",
       "0  I've read every adventure of Asterix and Obeli...      1\n",
       "1  The incomparable Laura Gemser appeared briefly...      1\n",
       "2  The promise of Martin Donovan playing Jesus wa...      1\n",
       "3  Hysterically painful; perhaps the kind of movi...      1\n",
       "4  Wrestlemania 2 is the only Wrestlemania|thank ...      0"
      ],
      "text/html": "<div>\n<style scoped>\n    .dataframe tbody tr th:only-of-type {\n        vertical-align: middle;\n    }\n\n    .dataframe tbody tr th {\n        vertical-align: top;\n    }\n\n    .dataframe thead th {\n        text-align: right;\n    }\n</style>\n<table border=\"1\" class=\"dataframe\">\n  <thead>\n    <tr style=\"text-align: right;\">\n      <th></th>\n      <th>review</th>\n      <th>label</th>\n    </tr>\n  </thead>\n  <tbody>\n    <tr>\n      <th>0</th>\n      <td>I've read every adventure of Asterix and Obeli...</td>\n      <td>1</td>\n    </tr>\n    <tr>\n      <th>1</th>\n      <td>The incomparable Laura Gemser appeared briefly...</td>\n      <td>1</td>\n    </tr>\n    <tr>\n      <th>2</th>\n      <td>The promise of Martin Donovan playing Jesus wa...</td>\n      <td>1</td>\n    </tr>\n    <tr>\n      <th>3</th>\n      <td>Hysterically painful; perhaps the kind of movi...</td>\n      <td>1</td>\n    </tr>\n    <tr>\n      <th>4</th>\n      <td>Wrestlemania 2 is the only Wrestlemania|thank ...</td>\n      <td>0</td>\n    </tr>\n  </tbody>\n</table>\n</div>"
     },
     "metadata": {},
     "execution_count": 21
    }
   ],
   "source": [
    "test_neg = pd.DataFrame({\"review\":data_Dict[\"aclImdb/test/neg\"], \"label\":[0]*len(data_Dict[\"aclImdb/test/neg\"])})\n",
    "test_pos = pd.DataFrame({\"review\":data_Dict[\"aclImdb/test/pos\"], \"label\":[1]*len(data_Dict[\"aclImdb/test/pos\"])})\n",
    "test_df = pd.concat([test_neg, test_pos])\n",
    "test_df = test_df.sample(frac = 1).reset_index(drop=True)\n",
    "test_df.head()"
   ]
  },
  {
   "cell_type": "code",
   "execution_count": 21,
   "metadata": {},
   "outputs": [],
   "source": [
    "train_df.to_pickle(\"pickle_data/train_df.pkl\")\n",
    "test_df.to_pickle(\"pickle_data/test_df.pkl\")\n",
    "train_df.to_csv(\"pickle_data/train_df.csv\")\n",
    "test_df.to_csv(\"pickle_data/test_df.csv\")"
   ]
  },
  {
   "source": [
    "train_df = pd.read_pickle(\"pickle_data/train_df.pkl\")\n",
    "test_df = pd.read_pickle(\"pickle_data/test_df.pkl\")"
   ],
   "cell_type": "code",
   "metadata": {},
   "execution_count": 19,
   "outputs": []
  },
  {
   "cell_type": "code",
   "execution_count": 5,
   "metadata": {},
   "outputs": [
    {
     "output_type": "stream",
     "name": "stderr",
     "text": [
      "100%|██████████| 25000/25000 [16:34<00:00, 25.13it/s]\n"
     ]
    }
   ],
   "source": [
    "train_tokenized_reviews = []\n",
    "train_review = train_df['review'].values.tolist()\n",
    "\n",
    "for review in tqdm(train_review):\n",
    "    list_o_t = []\n",
    "    nlpd = nlp(review)\n",
    "    list_o_t = [t.lemma_.lower() for t in nlpd if (t.is_alpha) and (not t.is_stop) and (not t.like_num) and (not t.is_punct) and (not t.is_space) and (not t.is_digit)]\n",
    "    train_tokenized_reviews.append(list_o_t)"
   ]
  },
  {
   "cell_type": "code",
   "execution_count": 6,
   "metadata": {},
   "outputs": [
    {
     "output_type": "stream",
     "name": "stdout",
     "text": [
      "25000\n"
     ]
    },
    {
     "output_type": "execute_result",
     "data": {
      "text/plain": [
       "['admit',\n",
       " 'expect',\n",
       " 'roger',\n",
       " 'corman',\n",
       " 'film',\n",
       " 'generally',\n",
       " 'expect',\n",
       " 'lot',\n",
       " 'walking',\n",
       " 'bad',\n",
       " 'script',\n",
       " 'case',\n",
       " 'pleasantly',\n",
       " 'gunslinger',\n",
       " 'story',\n",
       " 'woman',\n",
       " 'play',\n",
       " 'spunky',\n",
       " 'beverly',\n",
       " 'garland',\n",
       " 'take',\n",
       " 'sheriff',\n",
       " 'husband',\n",
       " 'brutally',\n",
       " 'murder',\n",
       " 'garland',\n",
       " 'pretty',\n",
       " 'good',\n",
       " 'shot',\n",
       " 'kill',\n",
       " 'murderer',\n",
       " 'day',\n",
       " 'husband',\n",
       " 'funeral',\n",
       " 'task',\n",
       " 'shut',\n",
       " 'local',\n",
       " 'bar',\n",
       " 'violate',\n",
       " 'town',\n",
       " 'curfew',\n",
       " 'bar',\n",
       " 'owner',\n",
       " 'try',\n",
       " 'buy',\n",
       " 'land',\n",
       " 'anticipation',\n",
       " 'buy',\n",
       " 'hope',\n",
       " 'railroad',\n",
       " 'garland',\n",
       " 'thorn',\n",
       " 'plan',\n",
       " 'bar',\n",
       " 'matron',\n",
       " 'hire',\n",
       " 'man',\n",
       " 'kill',\n",
       " 'garland',\n",
       " 'play',\n",
       " 'role',\n",
       " 'honestly',\n",
       " 'realistically',\n",
       " 'absolutely',\n",
       " 'temptation',\n",
       " 'suzanne',\n",
       " 'somers',\n",
       " 'sheriff',\n",
       " 'joke',\n",
       " 'exception',\n",
       " 'couple',\n",
       " 'faux',\n",
       " 'pas',\n",
       " 'apartment',\n",
       " 'door',\n",
       " 'open',\n",
       " 'inside',\n",
       " 'jeep',\n",
       " 'track',\n",
       " 'horseman',\n",
       " 'wait',\n",
       " 'screen',\n",
       " 'cue',\n",
       " 'ride',\n",
       " 'corner',\n",
       " 'movie',\n",
       " 'passable',\n",
       " 'movie',\n",
       " 'fare',\n",
       " 'corman',\n",
       " 'resist',\n",
       " 'pad',\n",
       " 'film',\n",
       " 'horse',\n",
       " 'riding',\n",
       " 'scene',\n",
       " 'like',\n",
       " 'walk',\n",
       " 'say',\n",
       " 'gunslinger',\n",
       " 'horse',\n",
       " 'opera',\n",
       " 'worth',\n",
       " 'time']"
      ]
     },
     "metadata": {},
     "execution_count": 6
    }
   ],
   "source": [
    "print(len(train_tokenized_reviews))\n",
    "train_tokenized_reviews[0]"
   ]
  },
  {
   "cell_type": "code",
   "execution_count": 7,
   "metadata": {},
   "outputs": [],
   "source": [
    "pickle.dump(train_tokenized_reviews, open(\"pickle_data/train_tokens.pkl\", \"wb\"))"
   ]
  },
  {
   "cell_type": "code",
   "execution_count": 8,
   "metadata": {},
   "outputs": [
    {
     "output_type": "stream",
     "name": "stderr",
     "text": [
      "100%|██████████| 25000/25000 [15:51<00:00, 26.27it/s]\n"
     ]
    }
   ],
   "source": [
    "test_tokenized_reviews = []\n",
    "test_review = test_df['review'].values.tolist()\n",
    "\n",
    "for review in tqdm(test_review):\n",
    "    list_o_t = []\n",
    "    nlpd = nlp(review)\n",
    "    list_o_t = [t.lemma_.lower() for t in nlpd if (t.is_alpha) and (not t.is_stop) and (not t.like_num) and (not t.is_punct) and (not t.is_space) and (not t.is_digit)]\n",
    "    test_tokenized_reviews.append(list_o_t)"
   ]
  },
  {
   "cell_type": "code",
   "execution_count": 9,
   "metadata": {},
   "outputs": [
    {
     "output_type": "stream",
     "name": "stdout",
     "text": [
      "25000\n"
     ]
    },
    {
     "output_type": "execute_result",
     "data": {
      "text/plain": [
       "['read',\n",
       " 'adventure',\n",
       " 'asterix',\n",
       " 'obelix',\n",
       " 'time',\n",
       " 'fan',\n",
       " 'les',\n",
       " 'nuls',\n",
       " 'les',\n",
       " 'robins',\n",
       " 'des',\n",
       " 'bois',\n",
       " 'jamel',\n",
       " 'expect',\n",
       " 'lot',\n",
       " 'movie',\n",
       " 'finally',\n",
       " 'get',\n",
       " 'satisfied',\n",
       " 'unlike',\n",
       " 'adaptation',\n",
       " 'asterix',\n",
       " 'big',\n",
       " 'screen',\n",
       " 'astérix',\n",
       " 'et',\n",
       " 'obélix',\n",
       " 'contre',\n",
       " 'césar',\n",
       " 'real',\n",
       " 'success',\n",
       " 'appearance',\n",
       " 'laetitia',\n",
       " 'casta',\n",
       " 'capture',\n",
       " 'spirit',\n",
       " 'comic',\n",
       " 'beautiful',\n",
       " 'monica',\n",
       " 'bellucci',\n",
       " 'movie',\n",
       " 'director',\n",
       " 'try',\n",
       " 'realistic',\n",
       " 'time',\n",
       " 'story',\n",
       " 'set',\n",
       " 'kill',\n",
       " 'spirit',\n",
       " 'asterix',\n",
       " 'hilarious',\n",
       " 'clothing',\n",
       " 'way',\n",
       " 'talking',\n",
       " 'identical',\n",
       " 'goscinny',\n",
       " 'uderzo',\n",
       " 'work',\n",
       " 'stick',\n",
       " 'original',\n",
       " 'story',\n",
       " 'downside',\n",
       " 'know',\n",
       " 'pretty',\n",
       " 'go',\n",
       " 'happen',\n",
       " 'alain',\n",
       " 'chabat',\n",
       " 'give',\n",
       " 'surprise',\n",
       " 'end',\n",
       " 'enjoy',\n",
       " 'movie',\n",
       " 'everytime',\n",
       " 'sign',\n",
       " 'boringness',\n",
       " 'start',\n",
       " 'appear',\n",
       " 'jamel',\n",
       " 'come',\n",
       " 'make',\n",
       " 'laugh',\n",
       " 'like',\n",
       " 'crazy',\n",
       " 'movie',\n",
       " 'big',\n",
       " 'mix',\n",
       " 'kind',\n",
       " 'humor',\n",
       " 'like',\n",
       " 'maybe',\n",
       " 'mix',\n",
       " 'help',\n",
       " 'like',\n",
       " 'like',\n",
       " 'asterix',\n",
       " 'humor',\n",
       " 'young',\n",
       " 'talent',\n",
       " 'start',\n",
       " 'nulle',\n",
       " 'ailleurs',\n",
       " 'french',\n",
       " 'mix',\n",
       " 'tonight',\n",
       " 'snl',\n",
       " 'movie']"
      ]
     },
     "metadata": {},
     "execution_count": 9
    }
   ],
   "source": [
    "print(len(test_tokenized_reviews))\n",
    "test_tokenized_reviews[0]"
   ]
  },
  {
   "cell_type": "code",
   "execution_count": 10,
   "metadata": {},
   "outputs": [],
   "source": [
    "pickle.dump(test_tokenized_reviews, open(\"pickle_data/test_tokens.pkl\", \"wb\"))"
   ]
  },
  {
   "cell_type": "code",
   "execution_count": null,
   "metadata": {},
   "outputs": [],
   "source": [
    "train_tokenized_reviews = pickle.load(open(\"pickle_data/train_tokens.pkl\", \"rb\"))\n",
    "test_tokenized_reviews = pickle.load(open(\"pickle_data/test_tokens.pkl\", \"rb\"))"
   ]
  },
  {
   "cell_type": "code",
   "execution_count": 13,
   "metadata": {},
   "outputs": [],
   "source": [
    "word_emb_w2v = gensim.models.Word2Vec(sentences=train_tokenized_reviews, size=200, window=5, workers=4, min_count=1)"
   ]
  },
  {
   "cell_type": "code",
   "execution_count": 16,
   "metadata": {},
   "outputs": [
    {
     "output_type": "execute_result",
     "data": {
      "text/plain": [
       "61928"
      ]
     },
     "metadata": {},
     "execution_count": 16
    }
   ],
   "source": [
    "len(word_emb_w2v.wv.vocab)"
   ]
  },
  {
   "cell_type": "code",
   "execution_count": 17,
   "metadata": {},
   "outputs": [
    {
     "output_type": "execute_result",
     "data": {
      "text/plain": [
       "[('wonderful', 0.7937697768211365),\n",
       " ('excellent', 0.7740113139152527),\n",
       " ('fantastic', 0.7627838253974915),\n",
       " ('fine', 0.7567758560180664),\n",
       " ('amazing', 0.7465605735778809),\n",
       " ('perfect', 0.7355730533599854),\n",
       " ('good', 0.7294976711273193),\n",
       " ('incredible', 0.7125909328460693),\n",
       " ('awesome', 0.6811337471008301),\n",
       " ('outstanding', 0.6658726930618286)]"
      ]
     },
     "metadata": {},
     "execution_count": 17
    }
   ],
   "source": [
    "word_emb_w2v.wv.most_similar(\"great\")"
   ]
  },
  {
   "cell_type": "code",
   "execution_count": 18,
   "metadata": {},
   "outputs": [],
   "source": [
    "word_emb_w2v.wv.save_word2vec_format(\"word_emb_w2v.txt\", binary=False)"
   ]
  },
  {
   "cell_type": "code",
   "execution_count": null,
   "metadata": {},
   "outputs": [],
   "source": []
  }
 ]
}